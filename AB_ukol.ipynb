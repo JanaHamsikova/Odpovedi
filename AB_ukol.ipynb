{
 "cells": [
  {
   "cell_type": "code",
   "execution_count": 1,
   "metadata": {},
   "outputs": [
    {
     "name": "stdout",
     "output_type": "stream",
     "text": [
      "<class 'pandas.core.frame.DataFrame'>\n",
      "RangeIndex: 1012 entries, 0 to 1011\n",
      "Data columns (total 7 columns):\n",
      " #   Column              Non-Null Count  Dtype  \n",
      "---  ------              --------------  -----  \n",
      " 0   vek_mother          1012 non-null   object \n",
      " 1   vek_embryo          827 non-null    object \n",
      " 2   genetic_method      850 non-null    object \n",
      " 3   f_donor             186 non-null    float64\n",
      " 4   examined_genes      86 non-null     object \n",
      " 5   sex                 835 non-null    object \n",
      " 6   clinical_gravidity  1000 non-null   float64\n",
      "dtypes: float64(2), object(5)\n",
      "memory usage: 55.5+ KB\n"
     ]
    }
   ],
   "source": [
    "import pandas as pd\n",
    "import numpy as np\n",
    "import matplotlib.pyplot as plt\n",
    "import seaborn as sns\n",
    "from scipy import stats\n",
    "import statsmodels.formula.api as smf\n",
    "\n",
    "transfers = pd.read_csv(\"transfery.csv\")\n",
    "transfers.info()"
   ]
  },
  {
   "cell_type": "code",
   "execution_count": 2,
   "metadata": {},
   "outputs": [
    {
     "data": {
      "text/plain": [
       "vek_mother\n",
       "32    83\n",
       "34    82\n",
       "31    73\n",
       "33    72\n",
       "38    68\n",
       "35    66\n",
       "39    64\n",
       "36    62\n",
       "37    61\n",
       "30    52\n",
       "29    51\n",
       "40    41\n",
       "28    36\n",
       "27    35\n",
       "43    25\n",
       "26    22\n",
       "42    21\n",
       "46    15\n",
       "45    14\n",
       "44    13\n",
       "25    12\n",
       "48    10\n",
       "23     9\n",
       "49     9\n",
       "47     8\n",
       "41     6\n",
       "24     1\n",
       "x      1\n",
       "Name: count, dtype: int64"
      ]
     },
     "execution_count": 2,
     "metadata": {},
     "output_type": "execute_result"
    }
   ],
   "source": [
    "#kontrola hodnot ve sloupcích vek_mother\n",
    "transfers[transfers[\"vek_mother\"].isnull()].count()\n",
    "transfers[\"vek_mother\"].value_counts()"
   ]
  },
  {
   "cell_type": "code",
   "execution_count": 3,
   "metadata": {},
   "outputs": [
    {
     "data": {
      "text/plain": [
       "clinical_gravidity\n",
       "0.0    501\n",
       "1.0    499\n",
       "Name: count, dtype: int64"
      ]
     },
     "execution_count": 3,
     "metadata": {},
     "output_type": "execute_result"
    }
   ],
   "source": [
    "#kontrola hodnot ve sloupcích clinical_gravidity\n",
    "transfers[transfers[\"clinical_gravidity\"].isnull()].count()\n",
    "transfers[\"clinical_gravidity\"].value_counts()"
   ]
  },
  {
   "cell_type": "code",
   "execution_count": 4,
   "metadata": {},
   "outputs": [],
   "source": [
    "#očištění od NULL hodnot ve sloupci clinical_gravidity\n",
    "transfers[transfers[\"clinical_gravidity\"].isnull()].count()\n",
    "transfers.dropna(subset=[\"clinical_gravidity\"],inplace=True)\n"
   ]
  },
  {
   "cell_type": "code",
   "execution_count": 5,
   "metadata": {},
   "outputs": [],
   "source": [
    "#očištění od hodnoty x ve sloupci vek_mother\n",
    "transfers.drop(transfers[transfers[\"vek_mother\"] == \"x\"].index, inplace=True)\n"
   ]
  },
  {
   "cell_type": "code",
   "execution_count": 6,
   "metadata": {},
   "outputs": [
    {
     "data": {
      "text/plain": [
       "vek_mother\n",
       "32    81\n",
       "34    81\n",
       "31    73\n",
       "33    72\n",
       "38    67\n",
       "35    66\n",
       "39    63\n",
       "36    62\n",
       "37    61\n",
       "30    52\n",
       "29    51\n",
       "40    41\n",
       "28    36\n",
       "27    35\n",
       "43    24\n",
       "26    22\n",
       "42    20\n",
       "46    14\n",
       "45    13\n",
       "44    12\n",
       "25    12\n",
       "48    10\n",
       "23     9\n",
       "47     8\n",
       "49     7\n",
       "41     6\n",
       "24     1\n",
       "Name: count, dtype: int64"
      ]
     },
     "execution_count": 6,
     "metadata": {},
     "output_type": "execute_result"
    }
   ],
   "source": [
    "#kontrola očištění\n",
    "transfers[\"clinical_gravidity\"].value_counts()\n",
    "transfers[\"vek_mother\"].value_counts()\n"
   ]
  },
  {
   "cell_type": "code",
   "execution_count": 7,
   "metadata": {},
   "outputs": [],
   "source": [
    "#rozdělení věku matky do 5 kategorií\n",
    "vek_mother_1 = transfers[transfers[\"vek_mother\"] <= \"29\"]\n",
    "vek_mother_2 = transfers[(transfers[\"vek_mother\"] >= \"30\") & (transfers[\"vek_mother\"] <= \"34\")]\n",
    "vek_mother_3 = transfers[(transfers[\"vek_mother\"] >= \"35\") & (transfers[\"vek_mother\"] <= \"39\")]\n",
    "vek_mother_4 = transfers[transfers[\"vek_mother\"] >= \"40\"]\n",
    "vek_mother_all = transfers[\"vek_mother\"]\n"
   ]
  },
  {
   "cell_type": "code",
   "execution_count": 8,
   "metadata": {},
   "outputs": [],
   "source": [
    "#spočítání úspěšnosti transferu\n",
    "success_all = ((transfers[\"clinical_gravidity\"] == 1.0).sum() /(transfers[\"clinical_gravidity\"].count()) * 100).round(2)\n",
    "success_1 = ((vek_mother_1[\"clinical_gravidity\"] == 1.0).sum() /vek_mother_1[\"clinical_gravidity\"].count() * 100).round(2)\n",
    "success_2 = ((vek_mother_2[\"clinical_gravidity\"] == 1.0).sum() /vek_mother_2[\"clinical_gravidity\"].count() * 100).round(2)\n",
    "success_3 = ((vek_mother_3[\"clinical_gravidity\"] == 1.0).sum() /vek_mother_3[\"clinical_gravidity\"].count() * 100).round(2)\n",
    "success_4 = ((vek_mother_4[\"clinical_gravidity\"] == 1.0).sum() /vek_mother_4[\"clinical_gravidity\"].count() * 100).round(2)"
   ]
  },
  {
   "cell_type": "code",
   "execution_count": 9,
   "metadata": {},
   "outputs": [
    {
     "data": {
      "text/html": [
       "<div>\n",
       "<style scoped>\n",
       "    .dataframe tbody tr th:only-of-type {\n",
       "        vertical-align: middle;\n",
       "    }\n",
       "\n",
       "    .dataframe tbody tr th {\n",
       "        vertical-align: top;\n",
       "    }\n",
       "\n",
       "    .dataframe thead th {\n",
       "        text-align: right;\n",
       "    }\n",
       "</style>\n",
       "<table border=\"1\" class=\"dataframe\">\n",
       "  <thead>\n",
       "    <tr style=\"text-align: right;\">\n",
       "      <th></th>\n",
       "      <th>Všechny věkové kategorie</th>\n",
       "      <th>do 29</th>\n",
       "      <th>30-34</th>\n",
       "      <th>35-39</th>\n",
       "      <th>40 a výše</th>\n",
       "    </tr>\n",
       "  </thead>\n",
       "  <tbody>\n",
       "    <tr>\n",
       "      <th>0</th>\n",
       "      <td>49.95</td>\n",
       "      <td>54.82</td>\n",
       "      <td>51.81</td>\n",
       "      <td>47.96</td>\n",
       "      <td>44.52</td>\n",
       "    </tr>\n",
       "  </tbody>\n",
       "</table>\n",
       "</div>"
      ],
      "text/plain": [
       "   Všechny věkové kategorie  do 29  30-34  35-39  40 a výše\n",
       "0                     49.95  54.82  51.81  47.96      44.52"
      ]
     },
     "execution_count": 9,
     "metadata": {},
     "output_type": "execute_result"
    }
   ],
   "source": [
    "#zobrazení tabulky\n",
    "data = {\n",
    "    'Všechny věkové kategorie': [success_all],\n",
    "    'do 29': [success_1],\n",
    "    '30-34': [success_2],\n",
    "    '35-39': [success_3],\n",
    "    '40 a výše': [success_4]\n",
    "}\n",
    "\n",
    "novy_dataframe = pd.DataFrame(data)\n",
    "novy_dataframe"
   ]
  },
  {
   "cell_type": "code",
   "execution_count": 10,
   "metadata": {},
   "outputs": [
    {
     "data": {
      "image/png": "[encoded data removed]",
      "text/plain": [
       "<Figure size 640x480 with 1 Axes>"
      ]
     },
     "metadata": {},
     "output_type": "display_data"
    }
   ],
   "source": [
    "# Zobrazení grafu\n",
    "data_graf= {\n",
    "    'Věková kategorie': ['všechny věkové kategorie','do 29', '30-34', '35-39', '40 a víc'],\n",
    "    'Pocet': [success_all, success_1, success_2, success_3, success_4]\n",
    "}\n",
    "\n",
    "# Vytvoření DataFrame\n",
    "df = pd.DataFrame(data_graf)\n",
    "\n",
    "# Vytvoření sloupcového grafu\n",
    "plt.bar(df['Věková kategorie'], df['Pocet'], color='#006600')\n",
    "\n",
    "# Přidání popisků os a názvu grafu\n",
    "\n",
    "plt.ylabel('Procento úspěšnosti', fontsize = 10)\n",
    "plt.title('Úspěšnost transferu dle věku matky', fontsize = 10)\n",
    "plt.xticks(fontsize=6) \n",
    "\n",
    "plt.show()"
   ]
  },
  {
   "cell_type": "code",
   "execution_count": 23,
   "metadata": {},
   "outputs": [
    {
     "name": "stdout",
     "output_type": "stream",
     "text": [
      "Spearman: -0.08, p-value: 0.011025320206943636\n",
      "Kendall's Tau: -0.07, p-value: 0.011095099364632866\n"
     ]
    }
   ],
   "source": [
    "# Spearmanův korelační koeficient & Kendallovo Tau\n",
    "\n",
    "spearman = stats.spearmanr(transfers[\"vek_mother\"], transfers[\"clinical_gravidity\"])\n",
    "kendall = stats.kendalltau(transfers[\"vek_mother\"], transfers[\"clinical_gravidity\"])\n",
    "\n",
    "print(f\"Spearman: {spearman.correlation: .2f}, p-value: {spearman.pvalue}\")\n",
    "print(f\"Kendall's Tau: {kendall.correlation: .2f}, p-value: {kendall.pvalue}\")"
   ]
  },
  {
   "cell_type": "code",
   "execution_count": null,
   "metadata": {},
   "outputs": [],
   "source": [
    "# Výsledek: hladina významnosti je menší než 0,05.\n",
    "# Věk matky a úspěšnost transferu jsou na sobě statisticky závislé."
   ]
  }
 ],
 "metadata": {
  "kernelspec": {
   "display_name": "Python 3",
   "language": "python",
   "name": "python3"
  },
  "language_info": {
   "codemirror_mode": {
    "name": "ipython",
    "version": 3
   },
   "file_extension": ".py",
   "mimetype": "text/x-python",
   "name": "python",
   "nbconvert_exporter": "python",
   "pygments_lexer": "ipython3",
   "version": "3.11.4"
  }
 },
 "nbformat": 4,
 "nbformat_minor": 2
}
