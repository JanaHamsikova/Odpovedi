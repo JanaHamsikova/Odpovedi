{
 "cells": [
  {
   "cell_type": "code",
   "execution_count": 1,
   "metadata": {},
   "outputs": [
    {
     "name": "stdout",
     "output_type": "stream",
     "text": [
      "<class 'pandas.core.frame.DataFrame'>\n",
      "RangeIndex: 1012 entries, 0 to 1011\n",
      "Data columns (total 7 columns):\n",
      " #   Column              Non-Null Count  Dtype  \n",
      "---  ------              --------------  -----  \n",
      " 0   vek_mother          1012 non-null   object \n",
      " 1   vek_embryo          827 non-null    object \n",
      " 2   genetic_method      850 non-null    object \n",
      " 3   f_donor             186 non-null    float64\n",
      " 4   examined_genes      86 non-null     object \n",
      " 5   sex                 835 non-null    object \n",
      " 6   clinical_gravidity  1000 non-null   float64\n",
      "dtypes: float64(2), object(5)\n",
      "memory usage: 55.5+ KB\n"
     ]
    }
   ],
   "source": [
    "import pandas as pd\n",
    "import numpy as np\n",
    "import matplotlib.pyplot as plt\n",
    "import seaborn as sns\n",
    "from scipy import stats\n",
    "import statsmodels.formula.api as smf\n",
    "\n",
    "e_transfers = pd.read_csv(\"transfery.csv\")\n",
    "e_transfers.info()"
   ]
  },
  {
   "cell_type": "code",
   "execution_count": 2,
   "metadata": {},
   "outputs": [
    {
     "data": {
      "text/plain": [
       "vek_embryo\n",
       "False    827\n",
       "True     185\n",
       "Name: count, dtype: int64"
      ]
     },
     "execution_count": 2,
     "metadata": {},
     "output_type": "execute_result"
    }
   ],
   "source": [
    "# kontrola hodnot ve sloupcích vek_embryo\n",
    "e_transfers[\"vek_embryo\"].value_counts()\n",
    "e_transfers[\"vek_embryo\"].isnull().value_counts()"
   ]
  },
  {
   "cell_type": "code",
   "execution_count": 3,
   "metadata": {},
   "outputs": [
    {
     "data": {
      "text/plain": [
       "f_donor\n",
       "1.0    186\n",
       "Name: count, dtype: int64"
      ]
     },
     "execution_count": 3,
     "metadata": {},
     "output_type": "execute_result"
    }
   ],
   "source": [
    "# kontrola hodnot ve sloupcích f_donor\n",
    "e_transfers[\"f_donor\"].value_counts()"
   ]
  },
  {
   "cell_type": "code",
   "execution_count": 4,
   "metadata": {},
   "outputs": [
    {
     "data": {
      "text/plain": [
       "0"
      ]
     },
     "execution_count": 4,
     "metadata": {},
     "output_type": "execute_result"
    }
   ],
   "source": [
    "# odstranění hodnot ve sloupci f_donor = 1.0\n",
    "e_transfers.drop(e_transfers[e_transfers['f_donor'] == 1.0].index, inplace=True)\n",
    "e_transfers[\"f_donor\"].count()"
   ]
  },
  {
   "cell_type": "code",
   "execution_count": 5,
   "metadata": {},
   "outputs": [],
   "source": [
    "# odstanění null hodnot a x ve sloupcích vek_embryo\n",
    "e_transfers.drop(e_transfers[e_transfers['vek_embryo'] == \"x\"].index, inplace=True)\n",
    "e_transfers.dropna(subset=['vek_embryo'], inplace=True)"
   ]
  },
  {
   "cell_type": "code",
   "execution_count": 6,
   "metadata": {},
   "outputs": [
    {
     "data": {
      "text/plain": [
       "vek_embryo\n",
       "False    825\n",
       "Name: count, dtype: int64"
      ]
     },
     "execution_count": 6,
     "metadata": {},
     "output_type": "execute_result"
    }
   ],
   "source": [
    "e_transfers[\"vek_embryo\"].isnull().value_counts()"
   ]
  },
  {
   "cell_type": "code",
   "execution_count": 7,
   "metadata": {},
   "outputs": [
    {
     "name": "stdout",
     "output_type": "stream",
     "text": [
      "     vek_mother vek_embryo genetic_method  f_donor examined_genes  sex  \\\n",
      "3            32         28   Karyomapping      NaN           TGM1   XX   \n",
      "7            29         29            NaN      NaN            NaN  NaN   \n",
      "8            26         24          PGT-A      NaN            NaN   XY   \n",
      "9            28         27            NaN      NaN            NaN  NaN   \n",
      "16           26         25          PGT-A      NaN            NaN   XX   \n",
      "...         ...        ...            ...      ...            ...  ...   \n",
      "972          31         29          PGT-A      NaN            NaN   XY   \n",
      "993          28         27          PGT-A      NaN            NaN   XX   \n",
      "996          28         27          PGT-A      NaN            NaN   XX   \n",
      "1002         29         27          PGT-A      NaN            NaN   XY   \n",
      "1003         29         28          PGT-A      NaN            NaN   XX   \n",
      "\n",
      "      clinical_gravidity  \n",
      "3                    1.0  \n",
      "7                    0.0  \n",
      "8                    1.0  \n",
      "9                    0.0  \n",
      "16                   0.0  \n",
      "...                  ...  \n",
      "972                  1.0  \n",
      "993                  1.0  \n",
      "996                  1.0  \n",
      "1002                 0.0  \n",
      "1003                 1.0  \n",
      "\n",
      "[218 rows x 7 columns]\n"
     ]
    }
   ],
   "source": [
    "##rozdělení vek_embryo do 5 kategorií\n",
    "vek_embryo_1 = e_transfers[e_transfers[\"vek_embryo\"] <= \"29\"]\n",
    "vek_embryo_2 = e_transfers[(e_transfers[\"vek_embryo\"] >= \"30\") & (e_transfers[\"vek_embryo\"] <= \"34\")]\n",
    "vek_embryo_3 = e_transfers[(e_transfers[\"vek_embryo\"] >= \"35\") & (e_transfers[\"vek_embryo\"] <= \"39\")]\n",
    "vek_embryo_4 = e_transfers[e_transfers[\"vek_embryo\"] >= \"40\"]\n",
    "vek_embryo_all = e_transfers[\"vek_embryo\"]\n",
    "\n",
    "print(vek_embryo_1)"
   ]
  },
  {
   "cell_type": "code",
   "execution_count": 8,
   "metadata": {},
   "outputs": [],
   "source": [
    "# spočítání úspěšnosti transferu\n",
    "e_success_all = ((e_transfers[\"clinical_gravidity\"] == 1.0).sum() /(e_transfers[\"clinical_gravidity\"].count()) * 100).round(2)\n",
    "e_success_1 = ((vek_embryo_1[\"clinical_gravidity\"] == 1.0).sum() /vek_embryo_1[\"clinical_gravidity\"].count() * 100).round(2)\n",
    "e_success_2 = ((vek_embryo_2[\"clinical_gravidity\"] == 1.0).sum() /vek_embryo_2[\"clinical_gravidity\"].count() * 100).round(2)\n",
    "e_success_3 = ((vek_embryo_3[\"clinical_gravidity\"] == 1.0).sum() /vek_embryo_3[\"clinical_gravidity\"].count() * 100).round(2)\n",
    "e_success_4 = ((vek_embryo_4[\"clinical_gravidity\"] == 1.0).sum() /vek_embryo_4[\"clinical_gravidity\"].count() * 100).round(2)"
   ]
  },
  {
   "cell_type": "code",
   "execution_count": 9,
   "metadata": {},
   "outputs": [
    {
     "name": "stdout",
     "output_type": "stream",
     "text": [
      "51.34\n",
      "54.59\n",
      "51.54\n",
      "47.89\n",
      "50.0\n"
     ]
    }
   ],
   "source": [
    "print(e_success_all)\n",
    "print(e_success_1)\n",
    "print(e_success_2)\n",
    "print(e_success_3)\n",
    "print(e_success_4)\n"
   ]
  },
  {
   "cell_type": "code",
   "execution_count": 10,
   "metadata": {},
   "outputs": [
    {
     "data": {
      "text/html": [
       "<div>\n",
       "<style scoped>\n",
       "    .dataframe tbody tr th:only-of-type {\n",
       "        vertical-align: middle;\n",
       "    }\n",
       "\n",
       "    .dataframe tbody tr th {\n",
       "        vertical-align: top;\n",
       "    }\n",
       "\n",
       "    .dataframe thead th {\n",
       "        text-align: right;\n",
       "    }\n",
       "</style>\n",
       "<table border=\"1\" class=\"dataframe\">\n",
       "  <thead>\n",
       "    <tr style=\"text-align: right;\">\n",
       "      <th></th>\n",
       "      <th>Všechny věkové kategorie</th>\n",
       "      <th>do 29</th>\n",
       "      <th>30-34</th>\n",
       "      <th>35-39</th>\n",
       "      <th>40 a výše</th>\n",
       "    </tr>\n",
       "  </thead>\n",
       "  <tbody>\n",
       "    <tr>\n",
       "      <th>0</th>\n",
       "      <td>51.34</td>\n",
       "      <td>54.59</td>\n",
       "      <td>51.54</td>\n",
       "      <td>47.89</td>\n",
       "      <td>50.0</td>\n",
       "    </tr>\n",
       "  </tbody>\n",
       "</table>\n",
       "</div>"
      ],
      "text/plain": [
       "   Všechny věkové kategorie  do 29  30-34  35-39  40 a výše\n",
       "0                     51.34  54.59  51.54  47.89       50.0"
      ]
     },
     "execution_count": 10,
     "metadata": {},
     "output_type": "execute_result"
    }
   ],
   "source": [
    "# Zobrazení tabulky\n",
    "data_embryo = {\n",
    "    'Všechny věkové kategorie': [e_success_all],\n",
    "    'do 29': [e_success_1],\n",
    "    '30-34': [e_success_2],\n",
    "    '35-39': [e_success_3],\n",
    "    '40 a výše': [e_success_4]\n",
    "}\n",
    "\n",
    "new_dataframe_embryo = pd.DataFrame(data_embryo)\n",
    "new_dataframe_embryo"
   ]
  },
  {
   "cell_type": "code",
   "execution_count": 12,
   "metadata": {},
   "outputs": [
    {
     "name": "stdout",
     "output_type": "stream",
     "text": [
      "Spearman:  nan, p-value: nan\n",
      "Kendall's Tau:  nan, p-value: nan\n"
     ]
    }
   ],
   "source": [
    "# Spearmanův korelační koeficient & Kendallovo Tau\n",
    "\n",
    "spearman = stats.spearmanr(e_transfers[\"vek_embryo\"], e_transfers[\"clinical_gravidity\"])\n",
    "kendall = stats.kendalltau(e_transfers[\"vek_embryo\"], e_transfers[\"clinical_gravidity\"])\n",
    "\n",
    "print(f\"Spearman: {spearman.correlation: .2f}, p-value: {spearman.pvalue}\")\n",
    "print(f\"Kendall's Tau: {kendall.correlation: .2f}, p-value: {kendall.pvalue}\")\n",
    "\n",
    "# Tady se mi nepovedlo dobrat výsledku. \n",
    "# Dle hodnot z tabulky budou pravděpodobně věk embrya a úspěšnost transferu na sobě statisticky nezávislé."
   ]
  }
 ],
 "metadata": {
  "kernelspec": {
   "display_name": "Python 3",
   "language": "python",
   "name": "python3"
  },
  "language_info": {
   "codemirror_mode": {
    "name": "ipython",
    "version": 3
   },
   "file_extension": ".py",
   "mimetype": "text/x-python",
   "name": "python",
   "nbconvert_exporter": "python",
   "pygments_lexer": "ipython3",
   "version": "3.11.4"
  }
 },
 "nbformat": 4,
 "nbformat_minor": 2
}
