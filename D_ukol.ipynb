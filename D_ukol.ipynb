{
 "cells": [
  {
   "cell_type": "code",
   "execution_count": 1,
   "metadata": {},
   "outputs": [],
   "source": [
    "import pandas as pd\n",
    "import matplotlib.pyplot as plt\n",
    "\n",
    "transfery = pd.read_csv(\"transfery.csv\")"
   ]
  },
  {
   "cell_type": "code",
   "execution_count": 2,
   "metadata": {},
   "outputs": [
    {
     "data": {
      "text/html": [
       "<div>\n",
       "<style scoped>\n",
       "    .dataframe tbody tr th:only-of-type {\n",
       "        vertical-align: middle;\n",
       "    }\n",
       "\n",
       "    .dataframe tbody tr th {\n",
       "        vertical-align: top;\n",
       "    }\n",
       "\n",
       "    .dataframe thead th {\n",
       "        text-align: right;\n",
       "    }\n",
       "</style>\n",
       "<table border=\"1\" class=\"dataframe\">\n",
       "  <thead>\n",
       "    <tr style=\"text-align: right;\">\n",
       "      <th></th>\n",
       "      <th>genetic_method</th>\n",
       "      <th>počty</th>\n",
       "    </tr>\n",
       "  </thead>\n",
       "  <tbody>\n",
       "    <tr>\n",
       "      <th>0</th>\n",
       "      <td>Acgh</td>\n",
       "      <td>3</td>\n",
       "    </tr>\n",
       "    <tr>\n",
       "      <th>1</th>\n",
       "      <td>DNAseq</td>\n",
       "      <td>1</td>\n",
       "    </tr>\n",
       "    <tr>\n",
       "      <th>2</th>\n",
       "      <td>Karyomapping</td>\n",
       "      <td>66</td>\n",
       "    </tr>\n",
       "    <tr>\n",
       "      <th>3</th>\n",
       "      <td>NICS</td>\n",
       "      <td>7</td>\n",
       "    </tr>\n",
       "    <tr>\n",
       "      <th>4</th>\n",
       "      <td>OneGene</td>\n",
       "      <td>20</td>\n",
       "    </tr>\n",
       "    <tr>\n",
       "      <th>5</th>\n",
       "      <td>PGT-A</td>\n",
       "      <td>697</td>\n",
       "    </tr>\n",
       "    <tr>\n",
       "      <th>6</th>\n",
       "      <td>PGT-SR</td>\n",
       "      <td>15</td>\n",
       "    </tr>\n",
       "    <tr>\n",
       "      <th>7</th>\n",
       "      <td>VeriSeq</td>\n",
       "      <td>41</td>\n",
       "    </tr>\n",
       "    <tr>\n",
       "      <th>8</th>\n",
       "      <td>ostatní</td>\n",
       "      <td>45</td>\n",
       "    </tr>\n",
       "    <tr>\n",
       "      <th>9</th>\n",
       "      <td>bez genetické metody</td>\n",
       "      <td>162</td>\n",
       "    </tr>\n",
       "  </tbody>\n",
       "</table>\n",
       "</div>"
      ],
      "text/plain": [
       "         genetic_method  počty\n",
       "0                  Acgh      3\n",
       "1                DNAseq      1\n",
       "2          Karyomapping     66\n",
       "3                  NICS      7\n",
       "4               OneGene     20\n",
       "5                 PGT-A    697\n",
       "6                PGT-SR     15\n",
       "7               VeriSeq     41\n",
       "8               ostatní     45\n",
       "9  bez genetické metody    162"
      ]
     },
     "execution_count": 2,
     "metadata": {},
     "output_type": "execute_result"
    }
   ],
   "source": [
    "#výpočet výskytu genetických metod dle jejich typů\n",
    "count_methods = transfery.groupby(\"genetic_method\").size()\n",
    "#výpočet výskytu bez genetické metody\n",
    "bez_geneticke_metody = transfery[\"genetic_method\"].isnull().sum()\n",
    "ostatni = transfery[\"genetic_method\"].isin([\"Acgh\", \"DNAseq\", \"NCIS\", \"VeriSeq\"]).sum()\n",
    "\n",
    "#uložení do dataframe pro výpis tabulky\n",
    "count_methods = pd.DataFrame(count_methods, columns=['počty'])\n",
    "count_methods.loc['ostatní'] =  ostatni\n",
    "count_methods.loc['bez genetické metody'] = bez_geneticke_metody\n",
    "count_methods = count_methods.reset_index()\n",
    "count_methods"
   ]
  },
  {
   "cell_type": "code",
   "execution_count": 3,
   "metadata": {},
   "outputs": [
    {
     "data": {
      "text/html": [
       "<div>\n",
       "<style scoped>\n",
       "    .dataframe tbody tr th:only-of-type {\n",
       "        vertical-align: middle;\n",
       "    }\n",
       "\n",
       "    .dataframe tbody tr th {\n",
       "        vertical-align: top;\n",
       "    }\n",
       "\n",
       "    .dataframe thead th {\n",
       "        text-align: right;\n",
       "    }\n",
       "</style>\n",
       "<table border=\"1\" class=\"dataframe\">\n",
       "  <thead>\n",
       "    <tr style=\"text-align: right;\">\n",
       "      <th>genetic_method</th>\n",
       "      <th>Acgh</th>\n",
       "      <th>DNAseq</th>\n",
       "      <th>Karyomapping</th>\n",
       "      <th>NICS</th>\n",
       "      <th>OneGene</th>\n",
       "      <th>PGT-A</th>\n",
       "      <th>PGT-SR</th>\n",
       "      <th>VeriSeq</th>\n",
       "      <th>bez genetické metody</th>\n",
       "      <th>ostatní</th>\n",
       "    </tr>\n",
       "  </thead>\n",
       "  <tbody>\n",
       "    <tr>\n",
       "      <th>počty</th>\n",
       "      <td>3.0</td>\n",
       "      <td>1.0</td>\n",
       "      <td>66.0</td>\n",
       "      <td>7.0</td>\n",
       "      <td>20.0</td>\n",
       "      <td>697.0</td>\n",
       "      <td>15.0</td>\n",
       "      <td>41.0</td>\n",
       "      <td>162.0</td>\n",
       "      <td>45.0</td>\n",
       "    </tr>\n",
       "  </tbody>\n",
       "</table>\n",
       "</div>"
      ],
      "text/plain": [
       "genetic_method  Acgh  DNAseq  Karyomapping  NICS  OneGene  PGT-A  PGT-SR  \\\n",
       "počty            3.0     1.0          66.0   7.0     20.0  697.0    15.0   \n",
       "\n",
       "genetic_method  VeriSeq  bez genetické metody  ostatní  \n",
       "počty              41.0                 162.0     45.0  "
      ]
     },
     "execution_count": 3,
     "metadata": {},
     "output_type": "execute_result"
    }
   ],
   "source": [
    "count_methods_trans = count_methods.pivot_table(columns = \"genetic_method\", values= \"počty\")\n",
    "count_methods_trans"
   ]
  },
  {
   "cell_type": "code",
   "execution_count": 14,
   "metadata": {},
   "outputs": [
    {
     "data": {
      "image/png": "[encoded data removed]",
      "text/plain": [
       "<Figure size 640x480 with 1 Axes>"
      ]
     },
     "metadata": {},
     "output_type": "display_data"
    }
   ],
   "source": [
    "x = count_methods[\"genetic_method\"]\n",
    "y = count_methods[\"počty\"].sort_values(ascending=False)\n",
    "\n",
    "plt.bar(x,y,color='#006600')\n",
    "\n",
    "plt.ylabel('Počet', fontsize = 10)\n",
    "plt.title('Počty dle genetické metody')\n",
    "plt.xticks(fontsize=6)\n",
    "plt.show()\n"
   ]
  }
 ],
 "metadata": {
  "kernelspec": {
   "display_name": "Python 3",
   "language": "python",
   "name": "python3"
  },
  "language_info": {
   "codemirror_mode": {
    "name": "ipython",
    "version": 3
   },
   "file_extension": ".py",
   "mimetype": "text/x-python",
   "name": "python",
   "nbconvert_exporter": "python",
   "pygments_lexer": "ipython3",
   "version": "3.11.4"
  }
 },
 "nbformat": 4,
 "nbformat_minor": 2
}
