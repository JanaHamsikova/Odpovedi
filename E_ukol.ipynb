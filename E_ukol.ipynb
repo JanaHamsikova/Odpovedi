{
 "cells": [
  {
   "cell_type": "code",
   "execution_count": 1,
   "metadata": {},
   "outputs": [],
   "source": [
    "import pandas as pd\n",
    "import seaborn as sns\n",
    "import matplotlib.pyplot as plt\n",
    "from scipy import stats\n",
    "import statsmodels.formula.api as smf\n",
    "transfery = pd.read_csv(\"transfery.csv\")\n"
   ]
  },
  {
   "cell_type": "code",
   "execution_count": 17,
   "metadata": {},
   "outputs": [],
   "source": [
    "#očištění od NULL hodnot ve sloupci sex a clinical_gravidity\n",
    "transfery.dropna(subset=[\"sex\"], inplace=True)\n",
    "transfery.dropna(subset=[\"clinical_gravidity\"],inplace=True)\n",
    "transfery.drop(transfery[transfery['sex'] == \"--\"].index, inplace=True)"
   ]
  },
  {
   "cell_type": "code",
   "execution_count": 19,
   "metadata": {},
   "outputs": [
    {
     "data": {
      "text/html": [
       "<div>\n",
       "<style scoped>\n",
       "    .dataframe tbody tr th:only-of-type {\n",
       "        vertical-align: middle;\n",
       "    }\n",
       "\n",
       "    .dataframe tbody tr th {\n",
       "        vertical-align: top;\n",
       "    }\n",
       "\n",
       "    .dataframe thead th {\n",
       "        text-align: right;\n",
       "    }\n",
       "</style>\n",
       "<table border=\"1\" class=\"dataframe\">\n",
       "  <thead>\n",
       "    <tr style=\"text-align: right;\">\n",
       "      <th></th>\n",
       "      <th>vek_mother</th>\n",
       "      <th>vek_embryo</th>\n",
       "      <th>genetic_method</th>\n",
       "      <th>f_donor</th>\n",
       "      <th>examined_genes</th>\n",
       "      <th>sex</th>\n",
       "      <th>clinical_gravidity</th>\n",
       "    </tr>\n",
       "  </thead>\n",
       "  <tbody>\n",
       "  </tbody>\n",
       "</table>\n",
       "</div>"
      ],
      "text/plain": [
       "Empty DataFrame\n",
       "Columns: [vek_mother, vek_embryo, genetic_method, f_donor, examined_genes, sex, clinical_gravidity]\n",
       "Index: []"
      ]
     },
     "execution_count": 19,
     "metadata": {},
     "output_type": "execute_result"
    }
   ],
   "source": [
    "#kontrola přítomnosti NULL hodnot\n",
    "transfery[transfery[\"sex\"].isnull()]\n",
    "transfery[transfery[\"clinical_gravidity\"].isnull()]"
   ]
  },
  {
   "cell_type": "code",
   "execution_count": 18,
   "metadata": {},
   "outputs": [
    {
     "data": {
      "text/plain": [
       "sex\n",
       "XY    434\n",
       "XX    389\n",
       "Name: count, dtype: int64"
      ]
     },
     "execution_count": 18,
     "metadata": {},
     "output_type": "execute_result"
    }
   ],
   "source": [
    "transfery[\"sex\"].value_counts()"
   ]
  },
  {
   "cell_type": "code",
   "execution_count": 22,
   "metadata": {},
   "outputs": [],
   "source": [
    "#určení proměnných\n",
    "sex_XX = transfery[\"sex\"] == \"XX\"\n",
    "sex_XY = transfery[\"sex\"] == \"XY\"\n",
    "is_successfull = transfery[\"clinical_gravidity\"] == \"1.0\"\n"
   ]
  },
  {
   "cell_type": "code",
   "execution_count": 23,
   "metadata": {},
   "outputs": [],
   "source": [
    "#výpočet úspěšnosti transferu dle pohlaví\n",
    "succesfull_XX = ((sex_XX).sum() / (is_successfull.count()) * 100).round(2)\n",
    "succesfull_XY = ((sex_XY).sum() / (is_successfull.count()) * 100).round(2)\n"
   ]
  },
  {
   "cell_type": "code",
   "execution_count": 24,
   "metadata": {},
   "outputs": [
    {
     "name": "stdout",
     "output_type": "stream",
     "text": [
      "47.27\n",
      "52.73\n"
     ]
    }
   ],
   "source": [
    "print(succesfull_XX)\n",
    "print(succesfull_XY)"
   ]
  },
  {
   "cell_type": "code",
   "execution_count": 27,
   "metadata": {},
   "outputs": [
    {
     "data": {
      "text/html": [
       "<div>\n",
       "<style scoped>\n",
       "    .dataframe tbody tr th:only-of-type {\n",
       "        vertical-align: middle;\n",
       "    }\n",
       "\n",
       "    .dataframe tbody tr th {\n",
       "        vertical-align: top;\n",
       "    }\n",
       "\n",
       "    .dataframe thead th {\n",
       "        text-align: right;\n",
       "    }\n",
       "</style>\n",
       "<table border=\"1\" class=\"dataframe\">\n",
       "  <thead>\n",
       "    <tr style=\"text-align: right;\">\n",
       "      <th>clinical_gravidity</th>\n",
       "      <th>0.0</th>\n",
       "      <th>1.0</th>\n",
       "    </tr>\n",
       "    <tr>\n",
       "      <th>sex</th>\n",
       "      <th></th>\n",
       "      <th></th>\n",
       "    </tr>\n",
       "  </thead>\n",
       "  <tbody>\n",
       "    <tr>\n",
       "      <th>XX</th>\n",
       "      <td>187</td>\n",
       "      <td>202</td>\n",
       "    </tr>\n",
       "    <tr>\n",
       "      <th>XY</th>\n",
       "      <td>214</td>\n",
       "      <td>220</td>\n",
       "    </tr>\n",
       "  </tbody>\n",
       "</table>\n",
       "</div>"
      ],
      "text/plain": [
       "clinical_gravidity  0.0  1.0\n",
       "sex                         \n",
       "XX                  187  202\n",
       "XY                  214  220"
      ]
     },
     "execution_count": 27,
     "metadata": {},
     "output_type": "execute_result"
    }
   ],
   "source": [
    "#test závislosti kategoriálních hodnot\n",
    "contigency_table = pd.crosstab(transfery[\"sex\"], transfery[\"clinical_gravidity\"])\n",
    "contigency_table\n",
    "\n",
    "#Výsledek\" úspěšnost transferu nezávisí na pohlaví\n",
    "#hladina významnosti je vyšší než 0.05."
   ]
  },
  {
   "cell_type": "code",
   "execution_count": 26,
   "metadata": {},
   "outputs": [
    {
     "data": {
      "text/plain": [
       "Chi2ContingencyResult(statistic=0.08096751237361059, pvalue=0.7759905247446093, dof=1, expected_freq=array([[189.53705954, 199.46294046],\n",
       "       [211.46294046, 222.53705954]]))"
      ]
     },
     "execution_count": 26,
     "metadata": {},
     "output_type": "execute_result"
    }
   ],
   "source": [
    "stats.chi2_contingency(contigency_table)"
   ]
  }
 ],
 "metadata": {
  "kernelspec": {
   "display_name": "Python 3",
   "language": "python",
   "name": "python3"
  },
  "language_info": {
   "codemirror_mode": {
    "name": "ipython",
    "version": 3
   },
   "file_extension": ".py",
   "mimetype": "text/x-python",
   "name": "python",
   "nbconvert_exporter": "python",
   "pygments_lexer": "ipython3",
   "version": "3.11.4"
  }
 },
 "nbformat": 4,
 "nbformat_minor": 2
}
